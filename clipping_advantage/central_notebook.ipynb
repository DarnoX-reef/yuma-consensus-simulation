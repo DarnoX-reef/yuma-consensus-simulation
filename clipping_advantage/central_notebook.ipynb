{
 "cells": [
  {
   "cell_type": "markdown",
   "metadata": {},
   "source": [
    "# Diagnostic of large validators clipping advantage effects on validators dividents\n",
    "This notebook investigates the inherent advantage that large validators possess when it comes to dividend distribution. Specifically, we simulate scenarios on a 1-winner-takes-all subnet type. We aim to demonstrate that large validators receive higher dividends per 1,000 Tao staked, even when they do not take the initial risk to discover and support new miners.\n",
    "\n",
    "The simulations will be run for multiple versions of the Yuma consensus algorithm, each exploring potential changes to the system's behavior under different protocol dynamics.\n",
    "\n",
    "### **Purpose**\n",
    "- To highlight the disparity in dividend earnings between large and small validators.\n",
    "- To show that large validators can \"win\" by earning more dividends per 1,000 Tao without taking the risk of supporting new miners early.\n",
    "- To emphasize the challenges small validators face when trying to gain fair rewards for their proactive actions.\n",
    "- To test how modifications in various Yuma algorithm versions impact these observed disparities.\n",
    "\n",
    "### **Scenarios Simulated**\n",
    "\n",
    "We simulate cases where validators switch their support to the new server at different times. The goal is to observe how the timing of support affects their dividends and bonds over time. The charts represent:\n",
    "\n",
    "- Validators dividends over time of 40/80 epochs (depending on a case).\n",
    "- Validators bonds per server over time of 40/80 epochs.\n",
    "- Validators total dividends after 30/70 epochs (depending on a case).\n",
    "\n",
    "### **Algorithm Versions Simulated**\n",
    "[Current Implementation Simulation](yuma_rust.ipynb)\n",
    "\n",
    "[Docs Based Simulation](yuma_simulation_1.ipynb)\n",
    "\n",
    "[Naive Solution Simulation](yuma_simulation_2.ipynb)\n",
    "\n"
   ]
  },
  {
   "cell_type": "markdown",
   "metadata": {},
   "source": []
  },
  {
   "cell_type": "markdown",
   "metadata": {},
   "source": []
  }
 ],
 "metadata": {
  "language_info": {
   "name": "python"
  }
 },
 "nbformat": 4,
 "nbformat_minor": 2
}
